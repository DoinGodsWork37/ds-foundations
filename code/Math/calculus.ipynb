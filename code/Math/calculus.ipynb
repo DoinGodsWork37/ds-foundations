{
 "cells": [
  {
   "cell_type": "code",
   "execution_count": 1,
   "metadata": {
    "collapsed": false
   },
   "outputs": [],
   "source": [
    "import math\n",
    "from sympy import  Symbol, S, sin, Limit, Derivative, sympify, pprint\n",
    "import numpy as np\n",
    "import matplotlib.pyplot as plt"
   ]
  },
  {
   "cell_type": "markdown",
   "metadata": {},
   "source": [
    "# Functions\n",
    "\n",
    "- A mapping between an input set and an output set\n",
    "- Exactly one element corresponds\n",
    "\n",
    "![function](imgs/calculus/function.png)\n",
    "\n",
    "- **Domain:** Set of input values that the independent variable can be\n",
    "- **Range:** Set of output values that the dependent variable can be"
   ]
  },
  {
   "cell_type": "markdown",
   "metadata": {},
   "source": [
    "# Limits"
   ]
  },
  {
   "cell_type": "markdown",
   "metadata": {
    "collapsed": true
   },
   "source": [
    "A common task in calculus is finding the limiting value (or simply the limit) of the function, when the variable’s value is assumed to approach a certain value.\n",
    "\n",
    "![limit 1](imgs/calculus/limit_1.png)\n",
    "![limit 2](imgs/calculus/limit_2.png)"
   ]
  },
  {
   "cell_type": "code",
   "execution_count": 2,
   "metadata": {
    "collapsed": false
   },
   "outputs": [
    {
     "name": "stderr",
     "output_type": "stream",
     "text": [
      "/Users/osx10/anaconda/lib/python3.5/site-packages/ipykernel/__main__.py:8: RuntimeWarning: divide by zero encountered in true_divide\n"
     ]
    },
    {
     "data": {
      "image/png": "[encoded data removed]",
      "text/plain": [
       "<matplotlib.figure.Figure at 0x10e135940>"
      ]
     },
     "metadata": {},
     "output_type": "display_data"
    }
   ],
   "source": [
    "def graph(formula, x_range):  \n",
    "    x = np.array(x_range)  \n",
    "    y = formula(x)\n",
    "    plt.plot(x, y)  \n",
    "    plt.show()  \n",
    "\n",
    "def my_formula(x):\n",
    "    return 1/x\n",
    "\n",
    "graph(my_formula, range(-10, 11))"
   ]
  },
  {
   "cell_type": "code",
   "execution_count": 3,
   "metadata": {
    "collapsed": false
   },
   "outputs": [
    {
     "data": {
      "text/plain": [
       "Limit(1/x, x, oo, dir='-')"
      ]
     },
     "execution_count": 3,
     "metadata": {},
     "output_type": "execute_result"
    }
   ],
   "source": [
    "x = Symbol('x')\n",
    "Limit(1/x, x, S.Infinity)"
   ]
  },
  {
   "cell_type": "code",
   "execution_count": 4,
   "metadata": {
    "collapsed": false
   },
   "outputs": [
    {
     "data": {
      "text/plain": [
       "0"
      ]
     },
     "execution_count": 4,
     "metadata": {},
     "output_type": "execute_result"
    }
   ],
   "source": [
    "l = Limit(1/x, x, S.Infinity)\n",
    "l.doit()"
   ]
  },
  {
   "cell_type": "code",
   "execution_count": 5,
   "metadata": {
    "collapsed": false
   },
   "outputs": [
    {
     "data": {
      "text/plain": [
       "-oo"
      ]
     },
     "execution_count": 5,
     "metadata": {},
     "output_type": "execute_result"
    }
   ],
   "source": [
    "Limit(1/x, x, 0, dir='-').doit()"
   ]
  },
  {
   "cell_type": "code",
   "execution_count": 6,
   "metadata": {
    "collapsed": false
   },
   "outputs": [
    {
     "data": {
      "text/plain": [
       "oo"
      ]
     },
     "execution_count": 6,
     "metadata": {},
     "output_type": "execute_result"
    }
   ],
   "source": [
    "Limit(1/x, x, 0, dir='+').doit()"
   ]
  },
  {
   "cell_type": "markdown",
   "metadata": {},
   "source": [
    "# Derivatives\n",
    "\n",
    "The derivative of a function **y=f(x)** expresses the rate of change in the dependent variable, **y**, with respect to the independent variable, **x**. It's often denoted as **dy/dx**.\n",
    "\n",
    "![derivative](imgs/calculus/derivative.png)"
   ]
  },
  {
   "cell_type": "code",
   "execution_count": 7,
   "metadata": {
    "collapsed": false
   },
   "outputs": [
    {
     "data": {
      "text/plain": [
       "Derivative(5*t**2 + 2*t + 8, t)"
      ]
     },
     "execution_count": 7,
     "metadata": {},
     "output_type": "execute_result"
    }
   ],
   "source": [
    "# acceleration equation for the motion of a car\n",
    "t = Symbol('t')\n",
    "St = 5*t**2 + 2*t + 8\n",
    "Derivative(St, t)"
   ]
  },
  {
   "cell_type": "code",
   "execution_count": 8,
   "metadata": {
    "collapsed": false
   },
   "outputs": [
    {
     "data": {
      "text/plain": [
       "10*t + 2"
      ]
     },
     "execution_count": 8,
     "metadata": {},
     "output_type": "execute_result"
    }
   ],
   "source": [
    "d = Derivative(St, t)\n",
    "d.doit()"
   ]
  },
  {
   "cell_type": "code",
   "execution_count": 9,
   "metadata": {
    "collapsed": false
   },
   "outputs": [
    {
     "data": {
      "text/plain": [
       "12"
      ]
     },
     "execution_count": 9,
     "metadata": {},
     "output_type": "execute_result"
    }
   ],
   "source": [
    "d.doit().subs({t:1})"
   ]
  },
  {
   "cell_type": "code",
   "execution_count": 10,
   "metadata": {
    "collapsed": false
   },
   "outputs": [],
   "source": [
    "# Derivative Calculator\n",
    "from sympy.core.sympify import SympifyError\n",
    "\n",
    "def derivative(f, var):\n",
    "    var = Symbol(var)\n",
    "    d = Derivative(f, var).doit()\n",
    "    pprint(d)\n",
    "    \n",
    "def process_function():\n",
    "    f = input('Enter a function: ')\n",
    "    var = input('Enter the variable to differentiate with respect to: ')\n",
    "\n",
    "    try:\n",
    "        f = sympify(f)\n",
    "    except SympifyError:\n",
    "        print('Invalid input')\n",
    "    else:\n",
    "        derivative(f, var)"
   ]
  },
  {
   "cell_type": "markdown",
   "metadata": {
    "collapsed": true
   },
   "source": [
    "**Partial derivatives**\n",
    "\n",
    "![partial](imgs/calculus/partial.png)"
   ]
  },
  {
   "cell_type": "code",
   "execution_count": 11,
   "metadata": {
    "collapsed": false
   },
   "outputs": [
    {
     "name": "stdout",
     "output_type": "stream",
     "text": [
      "Enter a function: 2*y + y**2\n",
      "Enter the variable to differentiate with respect to: y\n",
      "2⋅y + 2\n"
     ]
    }
   ],
   "source": [
    "# Use calculator\n",
    "process_function()"
   ]
  },
  {
   "cell_type": "markdown",
   "metadata": {},
   "source": [
    "# Maxima and Minima\n",
    "\n",
    "- find the first-order derivative\n",
    "- solve for 0 to find critical points: local and global max and min\n",
    "\n",
    "![maxima](imgs/calculus/maxima.png)"
   ]
  },
  {
   "cell_type": "code",
   "execution_count": 12,
   "metadata": {
    "collapsed": true
   },
   "outputs": [],
   "source": [
    "from sympy import Symbol, solve, Derivative\n",
    "x = Symbol('x')\n",
    "f = x**5 - 30*x**3 + 50*x\n",
    "d1 = Derivative(f, x).doit()"
   ]
  },
  {
   "cell_type": "code",
   "execution_count": 13,
   "metadata": {
    "collapsed": false
   },
   "outputs": [
    {
     "data": {
      "text/plain": [
       "[-sqrt(-sqrt(71) + 9),\n",
       " sqrt(-sqrt(71) + 9),\n",
       " -sqrt(sqrt(71) + 9),\n",
       " sqrt(sqrt(71) + 9)]"
      ]
     },
     "execution_count": 13,
     "metadata": {},
     "output_type": "execute_result"
    }
   ],
   "source": [
    "critical_points = solve(d1)\n",
    "critical_points"
   ]
  },
  {
   "cell_type": "code",
   "execution_count": 14,
   "metadata": {
    "collapsed": true
   },
   "outputs": [],
   "source": [
    "A = critical_points[2]\n",
    "B = critical_points[0]\n",
    "C = critical_points[1]\n",
    "D = critical_points[3]"
   ]
  },
  {
   "cell_type": "markdown",
   "metadata": {},
   "source": [
    "Because all the critical points for this function lie within the considered interval, they are all relevant for our search for the global maximum and minimum of f(x). We may now apply the so-called second derivative test to narrow down which critical points could be global maxima or minima."
   ]
  },
  {
   "cell_type": "code",
   "execution_count": 19,
   "metadata": {
    "collapsed": true
   },
   "outputs": [],
   "source": [
    "d2 = Derivative(f, x, 2).doit()"
   ]
  },
  {
   "cell_type": "code",
   "execution_count": 20,
   "metadata": {
    "collapsed": false
   },
   "outputs": [
    {
     "data": {
      "text/plain": [
       "127.661060789073"
      ]
     },
     "execution_count": 20,
     "metadata": {},
     "output_type": "execute_result"
    }
   ],
   "source": [
    "d2.subs({x:B}).evalf()"
   ]
  },
  {
   "cell_type": "code",
   "execution_count": 21,
   "metadata": {
    "collapsed": false
   },
   "outputs": [
    {
     "data": {
      "text/plain": [
       "-127.661060789073"
      ]
     },
     "execution_count": 21,
     "metadata": {},
     "output_type": "execute_result"
    }
   ],
   "source": [
    "d2.subs({x:C}).evalf()"
   ]
  },
  {
   "cell_type": "code",
   "execution_count": 22,
   "metadata": {
    "collapsed": false
   },
   "outputs": [
    {
     "data": {
      "text/plain": [
       "-703.493179468151"
      ]
     },
     "execution_count": 22,
     "metadata": {},
     "output_type": "execute_result"
    }
   ],
   "source": [
    "d2.subs({x:A}).evalf()"
   ]
  },
  {
   "cell_type": "code",
   "execution_count": 23,
   "metadata": {
    "collapsed": false
   },
   "outputs": [
    {
     "data": {
      "text/plain": [
       "703.493179468151"
      ]
     },
     "execution_count": 23,
     "metadata": {},
     "output_type": "execute_result"
    }
   ],
   "source": [
    "d2.subs({x:D}).evalf()"
   ]
  },
  {
   "cell_type": "markdown",
   "metadata": {},
   "source": [
    "Thus, to find the global maximum, we must compute the value of f(x)\n",
    "at the points A, C, −5, and 5. Among these points, the place where f(x) has\n",
    "the largest value must be the global maximum."
   ]
  },
  {
   "cell_type": "code",
   "execution_count": 24,
   "metadata": {
    "collapsed": false
   },
   "outputs": [
    {
     "data": {
      "text/plain": [
       "705.959460380365"
      ]
     },
     "execution_count": 24,
     "metadata": {},
     "output_type": "execute_result"
    }
   ],
   "source": [
    "x_min = -5\n",
    "x_max = 5\n",
    "\n",
    "f.subs({x:A}).evalf()"
   ]
  },
  {
   "cell_type": "code",
   "execution_count": 25,
   "metadata": {
    "collapsed": false
   },
   "outputs": [
    {
     "data": {
      "text/plain": [
       "25.0846626340294"
      ]
     },
     "execution_count": 25,
     "metadata": {},
     "output_type": "execute_result"
    }
   ],
   "source": [
    "f.subs({x:C}).evalf()"
   ]
  },
  {
   "cell_type": "code",
   "execution_count": 26,
   "metadata": {
    "collapsed": false
   },
   "outputs": [
    {
     "data": {
      "text/plain": [
       "375.000000000000"
      ]
     },
     "execution_count": 26,
     "metadata": {},
     "output_type": "execute_result"
    }
   ],
   "source": [
    "f.subs({x:x_min}).evalf()"
   ]
  },
  {
   "cell_type": "code",
   "execution_count": 27,
   "metadata": {
    "collapsed": false
   },
   "outputs": [
    {
     "data": {
      "text/plain": [
       "-375.000000000000"
      ]
     },
     "execution_count": 27,
     "metadata": {},
     "output_type": "execute_result"
    }
   ],
   "source": [
    "f.subs({x:x_max}).evalf()"
   ]
  },
  {
   "cell_type": "markdown",
   "metadata": {},
   "source": [
    "Repeat with points B, D for global minimum"
   ]
  },
  {
   "cell_type": "markdown",
   "metadata": {},
   "source": [
    "# Integrals\n",
    "\n",
    "The indefinite integral, or the antiderivative, of a function f(x) is another function F(x), such that F′(x) = f(x). That is, the integral of a function is another function whose derivative is the original function."
   ]
  },
  {
   "cell_type": "code",
   "execution_count": 28,
   "metadata": {
    "collapsed": false
   },
   "outputs": [
    {
     "data": {
      "text/plain": [
       "Integral(x**2, x)"
      ]
     },
     "execution_count": 28,
     "metadata": {},
     "output_type": "execute_result"
    }
   ],
   "source": [
    "from sympy import Integral, Symbol\n",
    "x = Symbol('x')\n",
    "k = Symbol('k')\n",
    "Integral(x**2, x)"
   ]
  },
  {
   "cell_type": "code",
   "execution_count": 29,
   "metadata": {
    "collapsed": false
   },
   "outputs": [
    {
     "data": {
      "text/plain": [
       "x**3/3"
      ]
     },
     "execution_count": 29,
     "metadata": {},
     "output_type": "execute_result"
    }
   ],
   "source": [
    "Integral(x**2, x).doit()"
   ]
  },
  {
   "cell_type": "markdown",
   "metadata": {},
   "source": [
    "To find the definite integral, we simply specify the variable, the lower\n",
    "limit, and the upper limit as a tuple when we create the Integral object.\n",
    "\n",
    "![definite](imgs/calculus/definite.png)\n"
   ]
  },
  {
   "cell_type": "code",
   "execution_count": 30,
   "metadata": {
    "collapsed": false
   },
   "outputs": [
    {
     "data": {
      "text/plain": [
       "6"
      ]
     },
     "execution_count": 30,
     "metadata": {},
     "output_type": "execute_result"
    }
   ],
   "source": [
    "Integral(x, (x, 2, 4)).doit()"
   ]
  },
  {
   "cell_type": "markdown",
   "metadata": {},
   "source": [
    "# Practical Applications"
   ]
  },
  {
   "cell_type": "markdown",
   "metadata": {},
   "source": [
    "## Probability Density Functions\n",
    "\n",
    "In a more precise sense, the PDF is used to specify the probability of the random variable falling within a particular range of values, as opposed to taking on any one value. This probability is given by the integral of this variable’s PDF over that range—that is, it is given by the area under the density function but above the horizontal axis and between the lowest and greatest values of the range. The probability density function is nonnegative everywhere, and its integral over the entire space is equal to one."
   ]
  },
  {
   "cell_type": "code",
   "execution_count": 31,
   "metadata": {
    "collapsed": false
   },
   "outputs": [
    {
     "data": {
      "text/plain": [
       "<matplotlib.legend.Legend at 0x11358fc88>"
      ]
     },
     "execution_count": 31,
     "metadata": {},
     "output_type": "execute_result"
    },
    {
     "data": {
      "image/png": "[encoded data removed]",
      "text/plain": [
       "<matplotlib.figure.Figure at 0x1116dabe0>"
      ]
     },
     "metadata": {},
     "output_type": "display_data"
    }
   ],
   "source": [
    "%matplotlib inline\n",
    "import matplotlib.pyplot as plt \n",
    "import numpy as np\n",
    "import scipy.stats\n",
    "\n",
    "# generate data samples\n",
    "data = scipy.stats.expon.rvs(loc=0, scale=1, size=1000, random_state=123)\n",
    "\n",
    "# test values for the bw_method option ('None' is the default value)\n",
    "bw_values =  [None, 0.1, 0.01]\n",
    "\n",
    "# generate a list of kde estimators for each bw\n",
    "kde = [scipy.stats.gaussian_kde(data,bw_method=bw) for bw in bw_values]\n",
    "\n",
    "# plot (normalized) histogram of the data\n",
    "plt.hist(data, 50, normed=1, facecolor='green', alpha=0.5);\n",
    "\n",
    "# plot density estimates\n",
    "t_range = np.linspace(-2,8,200)\n",
    "for i, bw in enumerate(bw_values):\n",
    "    plt.plot(t_range,kde[i](t_range),lw=2, label='bw = '+str(bw))\n",
    "plt.xlim(-1,6)\n",
    "plt.legend(loc='best')"
   ]
  },
  {
   "cell_type": "markdown",
   "metadata": {},
   "source": [
    "Note that large bw values result in a smoother pdf estimate, however, with the cost (in this example) of suggesting negative values are possible, which is not the case here. [More info](https://docs.scipy.org/doc/scipy-0.14.0/reference/generated/scipy.stats.gaussian_kde.set_bandwidth.html)."
   ]
  },
  {
   "cell_type": "markdown",
   "metadata": {
    "collapsed": true
   },
   "source": [
    "## Gradient Descent\n",
    "\n",
    "At a theoretical level, gradient descent is an algorithm that minimizes functions. Given a function defined by a set of parameters, gradient descent starts with an initial set of parameter values and iteratively moves toward a set of parameter values that minimize the function. This iterative minimization is achieved using calculus, taking steps in the negative direction of the function gradient.\n",
    "\n",
    "![regression](regression.png)\n",
    "\n",
    "Let’s suppose we want to model the above set of points with a line. To do this we’ll use the standard y = mx + b line equation where m is the line’s slope and b is the line’s y-intercept. To find the best line for our data, we need to find the best set of slope m and y-intercept b values.\n",
    "\n",
    "A standard approach to solving this type of problem is to define an error function (also called a cost function) that measures how “good” a given line is. This function will take in a (m,b) pair and return an error value based on how well the line fits our data. To compute this error for a given line, we’ll iterate through each (x,y) point in our data set and sum the square distances between each point’s y value and the candidate line’s y value (computed at mx + b). \n",
    "\n",
    "![gradient](gradient.png)"
   ]
  },
  {
   "cell_type": "code",
   "execution_count": 39,
   "metadata": {
    "collapsed": false
   },
   "outputs": [
    {
     "name": "stdout",
     "output_type": "stream",
     "text": [
      "Enter a function in one variable: x**2 + 2*x\n",
      "Enter the variable to differentiate with respect to: x\n",
      "Enter the initial value of the variable: 10\n",
      "x: -0.995001784897740\n",
      "Minimum value: -0.999975017845792\n"
     ]
    },
    {
     "data": {
      "image/png": "[encoded data removed]",
      "text/plain": [
       "<matplotlib.figure.Figure at 0x114197978>"
      ]
     },
     "metadata": {},
     "output_type": "display_data"
    }
   ],
   "source": [
    "'''\n",
    "grad_descent.py\n",
    "\n",
    "Use gradient descent to find the minimum value of a\n",
    "single variable function. This also checks for the existence\n",
    "of a solution for the equation, f'(x)=0 and plots the intermediate\n",
    "points traversed.\n",
    "'''\n",
    "\n",
    "from sympy import Derivative, Symbol, sympify, solve\n",
    "import matplotlib.pyplot as plt\n",
    "\n",
    "def grad_descent(x0, f1x, x):\n",
    "    # check if f1x=0 has a solution\n",
    "    if not solve(f1x):\n",
    "        print('Cannot continue, solution for {0}=0 does not exist'.format(f1x))\n",
    "        return None\n",
    "    epsilon =  1e-6\n",
    "    step_size = 1e-4\n",
    "    x_old = x0\n",
    "    x_new = x_old - step_size*f1x.subs({x:x_old}).evalf()\n",
    "\n",
    "    # list to store the X values traversed\n",
    "    X_traversed = []\n",
    "    while abs(x_old - x_new) > epsilon:\n",
    "        X_traversed.append(x_new)\n",
    "        x_old = x_new\n",
    "        x_new = x_old-step_size*f1x.subs({x:x_old}).evalf()\n",
    "\n",
    "    return x_new, X_traversed\n",
    "\n",
    "def frange(start, final, interval):\n",
    "\n",
    "    numbers = []\n",
    "    while start < final:\n",
    "        numbers.append(start)\n",
    "        start = start + interval\n",
    "    \n",
    "    return numbers\n",
    "\n",
    "def create_plot(X_traversed, f, var):\n",
    "    # First create the graph of the function itself\n",
    "    x_val = frange(-1, 1, 0.01)\n",
    "    f_val = [f.subs({var:x}) for x in x_val]\n",
    "    plt.plot(x_val, f_val, 'bo')\n",
    "    # calculate the function value at each of the intermediate\n",
    "    # points traversed\n",
    "    f_traversed = [f.subs({var:x}) for x in X_traversed]\n",
    "    plt.plot(X_traversed, f_traversed, 'r.')\n",
    "    plt.legend(['Function', 'Intermediate points'], loc='best')\n",
    "    plt.show()\n",
    "\n",
    "if __name__ == '__main__':\n",
    "\n",
    "    f = input('Enter a function in one variable: ')\n",
    "    var = input('Enter the variable to differentiate with respect to: ')\n",
    "    var0 = float(input('Enter the initial value of the variable: '))\n",
    "    try:\n",
    "        f = sympify(f)\n",
    "    except SympifyError:\n",
    "        print('Invalid function entered')\n",
    "    else:\n",
    "        var = Symbol(var)\n",
    "        d = Derivative(f, var).doit()\n",
    "        var_min, X_traversed = grad_descent(var0, d, var)\n",
    "        if var_min:\n",
    "            print('{0}: {1}'.format(var.name, var_min))\n",
    "            print('Minimum value: {0}'.format(f.subs({var:var_min})))\n",
    "            create_plot(X_traversed, f, var)\n"
   ]
  },
  {
   "cell_type": "code",
   "execution_count": 38,
   "metadata": {
    "collapsed": false
   },
   "outputs": [
    {
     "name": "stdout",
     "output_type": "stream",
     "text": [
      "[INFO] starting training...\n",
      "[INFO] epoch #1, loss=115.2888999\n",
      "[INFO] epoch #2, loss=112.1808255\n",
      "[INFO] epoch #3, loss=108.2292840\n",
      "[INFO] epoch #4, loss=103.3205570\n",
      "[INFO] epoch #5, loss=97.4002402\n",
      "[INFO] epoch #6, loss=90.5143249\n",
      "[INFO] epoch #7, loss=82.8403942\n",
      "[INFO] epoch #8, loss=74.6882078\n",
      "[INFO] epoch #9, loss=66.4562189\n",
      "[INFO] epoch #10, loss=58.5527526\n",
      "[INFO] epoch #11, loss=51.3133566\n",
      "[INFO] epoch #12, loss=44.9485999\n",
      "[INFO] epoch #13, loss=39.5364104\n",
      "[INFO] epoch #14, loss=35.0486619\n",
      "[INFO] epoch #15, loss=31.3911251\n",
      "[INFO] epoch #16, loss=28.4400200\n",
      "[INFO] epoch #17, loss=26.0677607\n",
      "[INFO] epoch #18, loss=24.1575927\n",
      "[INFO] epoch #19, loss=22.6099241\n",
      "[INFO] epoch #20, loss=21.3435367\n",
      "[INFO] epoch #21, loss=20.2941439\n",
      "[INFO] epoch #22, loss=19.4118694\n",
      "[INFO] epoch #23, loss=18.6585279\n",
      "[INFO] epoch #24, loss=18.0051303\n",
      "[INFO] epoch #25, loss=17.4297736\n",
      "[INFO] epoch #26, loss=16.9159405\n",
      "[INFO] epoch #27, loss=16.4511699\n",
      "[INFO] epoch #28, loss=16.0260376\n",
      "[INFO] epoch #29, loss=15.6333866\n",
      "[INFO] epoch #30, loss=15.2677498\n",
      "[INFO] epoch #31, loss=14.9249206\n",
      "[INFO] epoch #32, loss=14.6016341\n",
      "[INFO] epoch #33, loss=14.2953309\n",
      "[INFO] epoch #34, loss=14.0039825\n",
      "[INFO] epoch #35, loss=13.7259618\n",
      "[INFO] epoch #36, loss=13.4599472\n",
      "[INFO] epoch #37, loss=13.2048508\n",
      "[INFO] epoch #38, loss=12.9597654\n",
      "[INFO] epoch #39, loss=12.7239243\n",
      "[INFO] epoch #40, loss=12.4966714\n",
      "[INFO] epoch #41, loss=12.2774382\n",
      "[INFO] epoch #42, loss=12.0657267\n",
      "[INFO] epoch #43, loss=11.8610961\n",
      "[INFO] epoch #44, loss=11.6631522\n",
      "[INFO] epoch #45, loss=11.4715401\n",
      "[INFO] epoch #46, loss=11.2859373\n",
      "[INFO] epoch #47, loss=11.1060490\n",
      "[INFO] epoch #48, loss=10.9316043\n",
      "[INFO] epoch #49, loss=10.7623528\n",
      "[INFO] epoch #50, loss=10.5980623\n",
      "[INFO] epoch #51, loss=10.4385163\n",
      "[INFO] epoch #52, loss=10.2835126\n",
      "[INFO] epoch #53, loss=10.1328616\n",
      "[INFO] epoch #54, loss=9.9863852\n",
      "[INFO] epoch #55, loss=9.8439157\n",
      "[INFO] epoch #56, loss=9.7052947\n",
      "[INFO] epoch #57, loss=9.5703727\n",
      "[INFO] epoch #58, loss=9.4390080\n",
      "[INFO] epoch #59, loss=9.3110664\n",
      "[INFO] epoch #60, loss=9.1864205\n",
      "[INFO] epoch #61, loss=9.0649492\n",
      "[INFO] epoch #62, loss=8.9465373\n",
      "[INFO] epoch #63, loss=8.8310753\n",
      "[INFO] epoch #64, loss=8.7184586\n",
      "[INFO] epoch #65, loss=8.6085877\n",
      "[INFO] epoch #66, loss=8.5013675\n",
      "[INFO] epoch #67, loss=8.3967072\n",
      "[INFO] epoch #68, loss=8.2945202\n",
      "[INFO] epoch #69, loss=8.1947234\n",
      "[INFO] epoch #70, loss=8.0972376\n",
      "[INFO] epoch #71, loss=8.0019867\n",
      "[INFO] epoch #72, loss=7.9088982\n",
      "[INFO] epoch #73, loss=7.8179023\n",
      "[INFO] epoch #74, loss=7.7289322\n",
      "[INFO] epoch #75, loss=7.6419238\n",
      "[INFO] epoch #76, loss=7.5568157\n",
      "[INFO] epoch #77, loss=7.4735489\n",
      "[INFO] epoch #78, loss=7.3920667\n",
      "[INFO] epoch #79, loss=7.3123147\n",
      "[INFO] epoch #80, loss=7.2342407\n",
      "[INFO] epoch #81, loss=7.1577943\n",
      "[INFO] epoch #82, loss=7.0829272\n",
      "[INFO] epoch #83, loss=7.0095929\n",
      "[INFO] epoch #84, loss=6.9377466\n",
      "[INFO] epoch #85, loss=6.8673452\n",
      "[INFO] epoch #86, loss=6.7983472\n",
      "[INFO] epoch #87, loss=6.7307127\n",
      "[INFO] epoch #88, loss=6.6644031\n",
      "[INFO] epoch #89, loss=6.5993813\n",
      "[INFO] epoch #90, loss=6.5356115\n",
      "[INFO] epoch #91, loss=6.4730592\n",
      "[INFO] epoch #92, loss=6.4116911\n",
      "[INFO] epoch #93, loss=6.3514749\n",
      "[INFO] epoch #94, loss=6.2923798\n",
      "[INFO] epoch #95, loss=6.2343757\n",
      "[INFO] epoch #96, loss=6.1774338\n",
      "[INFO] epoch #97, loss=6.1215259\n",
      "[INFO] epoch #98, loss=6.0666253\n",
      "[INFO] epoch #99, loss=6.0127056\n",
      "[INFO] epoch #100, loss=5.9597418\n",
      "activation=0.8861; predicted_label=1, true_label=1\n",
      "activation=0.8768; predicted_label=1, true_label=1\n",
      "activation=0.1375; predicted_label=0, true_label=0\n",
      "activation=0.2007; predicted_label=0, true_label=0\n",
      "activation=0.8362; predicted_label=1, true_label=1\n",
      "activation=0.8790; predicted_label=1, true_label=1\n",
      "activation=0.2890; predicted_label=0, true_label=0\n",
      "activation=0.7241; predicted_label=1, true_label=1\n",
      "activation=0.3162; predicted_label=0, true_label=0\n",
      "activation=0.8158; predicted_label=1, true_label=1\n"
     ]
    },
    {
     "data": {
      "image/png": "[encoded data removed]",
      "text/plain": [
       "<matplotlib.figure.Figure at 0x113aaff28>"
      ]
     },
     "metadata": {},
     "output_type": "display_data"
    },
    {
     "data": {
      "image/png": "[encoded data removed]",
      "text/plain": [
       "<matplotlib.figure.Figure at 0x1141a5828>"
      ]
     },
     "metadata": {},
     "output_type": "display_data"
    }
   ],
   "source": [
    "import matplotlib.pyplot as plt\n",
    "from sklearn.datasets.samples_generator import make_blobs\n",
    "import numpy as np\n",
    "import argparse\n",
    "\n",
    "def sigmoid_activation(x):\n",
    "    return 1.0 / (1 + np.exp(-x))\n",
    "\n",
    "epochs = 100\n",
    "alpha = 0.01\n",
    "\n",
    "(X, y) = make_blobs(n_samples=250, n_features=2, centers=2,\n",
    "    cluster_std=1.05, random_state=20)\n",
    "\n",
    "\n",
    "X = np.c_[np.ones((X.shape[0])), X]\n",
    "\n",
    "print(\"[INFO] starting training...\")\n",
    "W = np.random.uniform(size=(X.shape[1],))\n",
    "\n",
    "lossHistory = []\n",
    "\n",
    "for epoch in np.arange(0, epochs):\n",
    "    preds = sigmoid_activation(X.dot(W))\n",
    "    error = preds - y\n",
    "    loss = np.sum(error ** 2)\n",
    "    lossHistory.append(loss)\n",
    "    print(\"[INFO] epoch #{}, loss={:.7f}\".format(epoch + 1, loss))\n",
    "\n",
    "    gradient = X.T.dot(error) / X.shape[0]\n",
    "    W += -alpha * gradient\n",
    "\n",
    "for i in np.random.choice(250, 10):\n",
    "    activation = sigmoid_activation(X[i].dot(W))\n",
    "    label = 0 if activation < 0.5 else 1\n",
    "\n",
    "    print(\"activation={:.4f}; predicted_label={}, true_label={}\".format(\n",
    "        activation, label, y[i]))\n",
    "\n",
    "Y = (-W[0] - (W[1] * X)) / W[2]\n",
    "\n",
    "plt.figure()\n",
    "plt.scatter(X[:, 1], X[:, 2], marker=\"o\", c=y)\n",
    "plt.plot(X, Y, \"r-\")\n",
    "\n",
    "fig = plt.figure()\n",
    "plt.plot(np.arange(0, epochs), lossHistory)\n",
    "fig.suptitle(\"Training Loss\")\n",
    "plt.xlabel(\"Epoch #\")\n",
    "plt.ylabel(\"Loss\")\n",
    "plt.show()"
   ]
  },
  {
   "cell_type": "code",
   "execution_count": null,
   "metadata": {
    "collapsed": true
   },
   "outputs": [],
   "source": []
  }
 ],
 "metadata": {
  "anaconda-cloud": {},
  "kernelspec": {
   "display_name": "Python [default]",
   "language": "python",
   "name": "python3"
  },
  "language_info": {
   "codemirror_mode": {
    "name": "ipython",
    "version": 3
   },
   "file_extension": ".py",
   "mimetype": "text/x-python",
   "name": "python",
   "nbconvert_exporter": "python",
   "pygments_lexer": "ipython3",
   "version": "3.5.2"
  }
 },
 "nbformat": 4,
 "nbformat_minor": 1
}
